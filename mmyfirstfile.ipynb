{
 "cells": [
  {
   "cell_type": "markdown",
   "id": "0ef5e5dd-4099-4179-88be-8ba3edda1af6",
   "metadata": {},
   "source": [
    "# indexing"
   ]
  },
  {
   "cell_type": "code",
   "execution_count": 13,
   "id": "010f11a3-a2bd-4761-bbd4-de38ddcfe18c",
   "metadata": {},
   "outputs": [
    {
     "data": {
      "text/plain": [
       "'samosa pakora'"
      ]
     },
     "execution_count": 13,
     "metadata": {},
     "output_type": "execute_result"
    }
   ],
   "source": [
    "# make a string\n",
    "a= \"samosa pakora\"\n",
    "a"
   ]
  },
  {
   "cell_type": "code",
   "execution_count": 17,
   "id": "d38a877c-ffa8-4e70-b607-b7f474193a9d",
   "metadata": {},
   "outputs": [
    {
     "data": {
      "text/plain": [
       "'samosa pakora'"
      ]
     },
     "execution_count": 17,
     "metadata": {},
     "output_type": "execute_result"
    }
   ],
   "source": [
    "a\n"
   ]
  },
  {
   "cell_type": "code",
   "execution_count": 41,
   "id": "80175891-4371-427d-a6f7-18616548dcd7",
   "metadata": {},
   "outputs": [
    {
     "data": {
      "text/plain": [
       "13"
      ]
     },
     "execution_count": 41,
     "metadata": {},
     "output_type": "execute_result"
    }
   ],
   "source": [
    "# length of indeces\n",
    "len(a)\n"
   ]
  },
  {
   "cell_type": "code",
   "execution_count": 35,
   "id": "cd27245a-4a6d-4fcc-ad55-3322c31267d1",
   "metadata": {
    "scrolled": true
   },
   "outputs": [
    {
     "ename": "NameError",
     "evalue": "name 'o' is not defined",
     "output_type": "error",
     "traceback": [
      "\u001b[1;31m---------------------------------------------------------------------------\u001b[0m",
      "\u001b[1;31mNameError\u001b[0m                                 Traceback (most recent call last)",
      "Cell \u001b[1;32mIn[35], line 1\u001b[0m\n\u001b[1;32m----> 1\u001b[0m a[o]\n",
      "\u001b[1;31mNameError\u001b[0m: name 'o' is not defined"
     ]
    }
   ],
   "source": [
    "a[o]\n",
    "\n"
   ]
  },
  {
   "cell_type": "code",
   "execution_count": 37,
   "id": "6a7e50e8-6701-4484-9f9a-0f390e4408f4",
   "metadata": {
    "scrolled": true
   },
   "outputs": [
    {
     "data": {
      "text/plain": [
       "'a'"
      ]
     },
     "execution_count": 37,
     "metadata": {},
     "output_type": "execute_result"
    }
   ],
   "source": [
    "a[1]\n"
   ]
  },
  {
   "cell_type": "code",
   "execution_count": 39,
   "id": "de4c5741-d9ee-4dbb-8756-33bbde4af5e4",
   "metadata": {
    "scrolled": true
   },
   "outputs": [
    {
     "data": {
      "text/plain": [
       "'o'"
      ]
     },
     "execution_count": 39,
     "metadata": {},
     "output_type": "execute_result"
    }
   ],
   "source": [
    "a[3]\n"
   ]
  },
  {
   "cell_type": "code",
   "execution_count": 45,
   "id": "bcf79219-7238-4752-bb1e-60672f407711",
   "metadata": {
    "scrolled": true
   },
   "outputs": [
    {
     "data": {
      "text/plain": [
       "'a'"
      ]
     },
     "execution_count": 45,
     "metadata": {},
     "output_type": "execute_result"
    }
   ],
   "source": [
    "a[12]"
   ]
  },
  {
   "cell_type": "code",
   "execution_count": 47,
   "id": "af2da3ad-c6cc-40b0-ad1a-0882a97cd0e9",
   "metadata": {
    "scrolled": true
   },
   "outputs": [
    {
     "data": {
      "text/plain": [
       "'samosa'"
      ]
     },
     "execution_count": 47,
     "metadata": {},
     "output_type": "execute_result"
    }
   ],
   "source": [
    "a[0:6]"
   ]
  },
  {
   "cell_type": "code",
   "execution_count": 51,
   "id": "e8227032-654d-4dc1-97eb-611eef4e5e7a",
   "metadata": {
    "scrolled": true
   },
   "outputs": [
    {
     "data": {
      "text/plain": [
       "'samosa pakora'"
      ]
     },
     "execution_count": 51,
     "metadata": {},
     "output_type": "execute_result"
    }
   ],
   "source": [
    "a[0:13]\n"
   ]
  },
  {
   "cell_type": "code",
   "execution_count": 57,
   "id": "34e35fdf-a3b1-4eb1-9f8c-d64e27ed51bc",
   "metadata": {
    "scrolled": true
   },
   "outputs": [
    {
     "data": {
      "text/plain": [
       "'p'"
      ]
     },
     "execution_count": 57,
     "metadata": {},
     "output_type": "execute_result"
    }
   ],
   "source": [
    "a[-6]"
   ]
  },
  {
   "cell_type": "code",
   "execution_count": 59,
   "id": "b919611a-9a6a-4870-af2b-fd4f128c9af5",
   "metadata": {
    "scrolled": true
   },
   "outputs": [
    {
     "data": {
      "text/plain": [
       "'biryani'"
      ]
     },
     "execution_count": 59,
     "metadata": {},
     "output_type": "execute_result"
    }
   ],
   "source": [
    "food=\"biryani\"\n",
    "food"
   ]
  },
  {
   "cell_type": "markdown",
   "id": "65ff76e9-af08-4ce2-89ec-27dc17bf584f",
   "metadata": {},
   "source": [
    "## string method\n"
   ]
  },
  {
   "cell_type": "code",
   "execution_count": 64,
   "id": "2e49648e-737b-472e-a895-2e40110ccbda",
   "metadata": {
    "scrolled": true
   },
   "outputs": [
    {
     "data": {
      "text/plain": [
       "'biryani'"
      ]
     },
     "execution_count": 64,
     "metadata": {},
     "output_type": "execute_result"
    }
   ],
   "source": [
    "food"
   ]
  },
  {
   "cell_type": "code",
   "execution_count": 68,
   "id": "9d25574e-b577-43b6-98a7-922115bdb2ef",
   "metadata": {
    "scrolled": true
   },
   "outputs": [
    {
     "data": {
      "text/plain": [
       "7"
      ]
     },
     "execution_count": 68,
     "metadata": {},
     "output_type": "execute_result"
    }
   ],
   "source": [
    "len(food)\n"
   ]
  },
  {
   "cell_type": "code",
   "execution_count": 70,
   "id": "64aaac41-01ab-42fc-b7ad-69ae7a1b2e7b",
   "metadata": {
    "scrolled": true
   },
   "outputs": [
    {
     "data": {
      "text/plain": [
       "'Biryani'"
      ]
     },
     "execution_count": 70,
     "metadata": {},
     "output_type": "execute_result"
    }
   ],
   "source": [
    "food.capitalize()\n"
   ]
  },
  {
   "cell_type": "code",
   "execution_count": 72,
   "id": "14e07ba1-23e2-4df9-9842-ec527f062b83",
   "metadata": {},
   "outputs": [
    {
     "data": {
      "text/plain": [
       "'BIRYANI'"
      ]
     },
     "execution_count": 72,
     "metadata": {},
     "output_type": "execute_result"
    }
   ],
   "source": [
    "food.upper()\n"
   ]
  },
  {
   "cell_type": "code",
   "execution_count": 76,
   "id": "2ef3beeb-14c0-4ac5-9f37-64ad9c85aea3",
   "metadata": {},
   "outputs": [
    {
     "data": {
      "text/plain": [
       "'shiryani'"
      ]
     },
     "execution_count": 76,
     "metadata": {},
     "output_type": "execute_result"
    }
   ],
   "source": [
    "food.replace(\"b\",\"sh\")\n"
   ]
  },
  {
   "cell_type": "code",
   "execution_count": 78,
   "id": "b0c852f1-5717-43a4-b8a7-f960dd485e4f",
   "metadata": {},
   "outputs": [
    {
     "data": {
      "text/plain": [
       "'baba_fazal khan of shamozai'"
      ]
     },
     "execution_count": 78,
     "metadata": {},
     "output_type": "execute_result"
    }
   ],
   "source": [
    "name=\"baba_fazal khan of shamozai\"\n",
    "name"
   ]
  },
  {
   "cell_type": "code",
   "execution_count": 84,
   "id": "f1b2105d-34f0-42d8-b8e4-907c4c7aa27d",
   "metadata": {
    "scrolled": true
   },
   "outputs": [
    {
     "data": {
      "text/plain": [
       "2"
      ]
     },
     "execution_count": 84,
     "metadata": {},
     "output_type": "execute_result"
    }
   ],
   "source": [
    "name.count(\"z\")\n"
   ]
  },
  {
   "cell_type": "markdown",
   "id": "b6a4ffd7-34ad-44c5-a14c-e2d0fe2615a8",
   "metadata": {},
   "source": [
    "### - finding an index number in string"
   ]
  },
  {
   "cell_type": "code",
   "execution_count": 91,
   "id": "f566b674-6b42-4146-899b-62e12f121bfa",
   "metadata": {
    "scrolled": true
   },
   "outputs": [
    {
     "data": {
      "text/plain": [
       "16"
      ]
     },
     "execution_count": 91,
     "metadata": {},
     "output_type": "execute_result"
    }
   ],
   "source": [
    "name=\"baba_fazal khan of shamozai\"\n",
    "name.find(\"o\")\n"
   ]
  },
  {
   "cell_type": "code",
   "execution_count": 101,
   "id": "38a77e9a-3499-461f-92f5-3ea409e96a3c",
   "metadata": {
    "scrolled": true
   },
   "outputs": [
    {
     "data": {
      "text/plain": [
       "'i love samosa, pakora, biryani and karahi'"
      ]
     },
     "execution_count": 101,
     "metadata": {},
     "output_type": "execute_result"
    }
   ],
   "source": [
    "### _how to split a string\n",
    "food=\"i love samosa, pakora, biryani and karahi\"\n",
    "food"
   ]
  },
  {
   "cell_type": "code",
   "execution_count": 103,
   "id": "16a013ee-ca9e-43b0-a7ba-85c87cc696a1",
   "metadata": {},
   "outputs": [
    {
     "data": {
      "text/plain": [
       "['i love samosa', ' pakora', ' biryani and karahi']"
      ]
     },
     "execution_count": 103,
     "metadata": {},
     "output_type": "execute_result"
    }
   ],
   "source": [
    "food.split(\",\")\n"
   ]
  },
  {
   "cell_type": "markdown",
   "id": "80529f7c-a7d8-48ca-b7ae-7e18a597c527",
   "metadata": {},
   "source": [
    "### basic data structure in python \n",
    "# 1- tuple\n",
    "# 2- list\n",
    "# 3- dictionaries \n",
    "# 4- set"
   ]
  },
  {
   "cell_type": "markdown",
   "id": "b7a89744-0cd8-400d-aa23-61fd32302f28",
   "metadata": {},
   "source": [
    "## tuple\n",
    "- ordered collection of elements\n",
    "- enclosed in () round brace/ parenthesis\n",
    "- different kind of elements can be stored\n",
    "- once elements are stored yu can not chenge them (unmatable)\n",
    "\n"
   ]
  },
  {
   "cell_type": "code",
   "execution_count": 11,
   "id": "eb603af0-8a5f-464c-8b72-623e99498468",
   "metadata": {
    "scrolled": true
   },
   "outputs": [
    {
     "data": {
      "text/plain": [
       "(1, 'python', True, 2.5)"
      ]
     },
     "execution_count": 11,
     "metadata": {},
     "output_type": "execute_result"
    }
   ],
   "source": [
    "tup1 = (1, \"python\", True, 2.5)\n",
    "tup1"
   ]
  },
  {
   "cell_type": "code",
   "execution_count": 21,
   "id": "5e413896-1909-4385-bf42-db0d38bbb6d8",
   "metadata": {},
   "outputs": [
    {
     "data": {
      "text/plain": [
       "tuple"
      ]
     },
     "execution_count": 21,
     "metadata": {},
     "output_type": "execute_result"
    }
   ],
   "source": [
    "tup1 = (1, \"python\", True, 2.5)\n",
    "type(tup1)\n"
   ]
  },
  {
   "cell_type": "markdown",
   "id": "5f0aeff7-ad87-4a63-942d-6c576a4b3fb5",
   "metadata": {},
   "source": [
    "### - indexing in tuple"
   ]
  },
  {
   "cell_type": "code",
   "execution_count": 26,
   "id": "73998f3f-7850-42b8-80b9-ca308d21e005",
   "metadata": {
    "scrolled": true
   },
   "outputs": [
    {
     "data": {
      "text/plain": [
       "1"
      ]
     },
     "execution_count": 26,
     "metadata": {},
     "output_type": "execute_result"
    }
   ],
   "source": [
    "tup1[0]\n"
   ]
  },
  {
   "cell_type": "code",
   "execution_count": 28,
   "id": "94aeca54-b7c4-420b-b416-669a1d4481b7",
   "metadata": {
    "scrolled": true
   },
   "outputs": [
    {
     "data": {
      "text/plain": [
       "True"
      ]
     },
     "execution_count": 28,
     "metadata": {},
     "output_type": "execute_result"
    }
   ],
   "source": [
    "tup1[2]\n"
   ]
  },
  {
   "cell_type": "code",
   "execution_count": 30,
   "id": "246108b1-ce68-4b51-8ef6-ec529aa5ab82",
   "metadata": {},
   "outputs": [
    {
     "data": {
      "text/plain": [
       "(1, 'python', True, 2.5)"
      ]
     },
     "execution_count": 30,
     "metadata": {},
     "output_type": "execute_result"
    }
   ],
   "source": [
    "tup1[0:5]\n"
   ]
  },
  {
   "cell_type": "code",
   "execution_count": 32,
   "id": "f95f6730-e21a-4e55-bd3c-650f48d2b0df",
   "metadata": {},
   "outputs": [
    {
     "data": {
      "text/plain": [
       "4"
      ]
     },
     "execution_count": 32,
     "metadata": {},
     "output_type": "execute_result"
    }
   ],
   "source": [
    "# count of elements\n",
    "len(tup1)\n"
   ]
  },
  {
   "cell_type": "code",
   "execution_count": 34,
   "id": "4b97f8ae-de99-45c3-b04a-8c1c5f7b5dad",
   "metadata": {},
   "outputs": [
    {
     "data": {
      "text/plain": [
       "(2, 'fazal', 3.5, False)"
      ]
     },
     "execution_count": 34,
     "metadata": {},
     "output_type": "execute_result"
    }
   ],
   "source": [
    "#creat another tuple\n",
    "tup2=(2,\"fazal\",3.5,False)\n",
    "tup2"
   ]
  },
  {
   "cell_type": "code",
   "execution_count": 36,
   "id": "4ec6fd6d-314c-49be-94bd-700e08965f74",
   "metadata": {},
   "outputs": [
    {
     "data": {
      "text/plain": [
       "(1, 'python', True, 2.5, 2, 'fazal', 3.5, False)"
      ]
     },
     "execution_count": 36,
     "metadata": {},
     "output_type": "execute_result"
    }
   ],
   "source": [
    "tup1+tup2"
   ]
  },
  {
   "cell_type": "code",
   "execution_count": 38,
   "id": "7c9d6d96-482f-4ff9-b679-bee334c74246",
   "metadata": {
    "scrolled": true
   },
   "outputs": [
    {
     "data": {
      "text/plain": [
       "(1, 'python', True, 2.5, 1, 'python', True, 2.5, 2, 'fazal', 3.5, False)"
      ]
     },
     "execution_count": 38,
     "metadata": {},
     "output_type": "execute_result"
    }
   ],
   "source": [
    "# addatioan subtraction extra \n",
    "tup1*2+tup2"
   ]
  },
  {
   "cell_type": "code",
   "execution_count": 46,
   "id": "57e69ad6-e979-4546-a164-98465823950d",
   "metadata": {
    "scrolled": true
   },
   "outputs": [
    {
     "data": {
      "text/plain": [
       "(1, 'python', True, 2.5, 2, 'fazal', 3.5, False)"
      ]
     },
     "execution_count": 46,
     "metadata": {},
     "output_type": "execute_result"
    }
   ],
   "source": [
    "tup1+tup2"
   ]
  },
  {
   "cell_type": "code",
   "execution_count": 48,
   "id": "182fa20e-e7a8-4e05-8e2c-aa299b9eac64",
   "metadata": {},
   "outputs": [
    {
     "data": {
      "text/plain": [
       "(20, 50, 30, 60, 70, 85)"
      ]
     },
     "execution_count": 48,
     "metadata": {},
     "output_type": "execute_result"
    }
   ],
   "source": [
    "tup3=(20,50,30,60,70,85)\n",
    "tup3"
   ]
  },
  {
   "cell_type": "code",
   "execution_count": 50,
   "id": "6073355a-705e-470e-a622-97b5d9a49af2",
   "metadata": {
    "scrolled": true
   },
   "outputs": [
    {
     "data": {
      "text/plain": [
       "20"
      ]
     },
     "execution_count": 50,
     "metadata": {},
     "output_type": "execute_result"
    }
   ],
   "source": [
    "min(tup3)\n"
   ]
  },
  {
   "cell_type": "code",
   "execution_count": 52,
   "id": "8022be06-3199-4f80-b70b-120d94ffc3bd",
   "metadata": {},
   "outputs": [
    {
     "data": {
      "text/plain": [
       "85"
      ]
     },
     "execution_count": 52,
     "metadata": {},
     "output_type": "execute_result"
    }
   ],
   "source": [
    "max(tup3)\n"
   ]
  },
  {
   "cell_type": "code",
   "execution_count": 56,
   "id": "71fa1110-db31-41f0-8e07-e9eb74fda230",
   "metadata": {},
   "outputs": [
    {
     "data": {
      "text/plain": [
       "(20, 50, 30, 60, 70, 85, 20, 50, 30, 60, 70, 85)"
      ]
     },
     "execution_count": 56,
     "metadata": {},
     "output_type": "execute_result"
    }
   ],
   "source": [
    "tup3*2"
   ]
  },
  {
   "cell_type": "markdown",
   "id": "e079db3b-0c3a-4083-ad44-68aa44a2d902",
   "metadata": {},
   "source": [
    "---"
   ]
  },
  {
   "cell_type": "markdown",
   "id": "0b659f5b-1095-41aa-89f5-d0d83e82bdb8",
   "metadata": {},
   "source": [
    "## - list\n",
    "- ordered collection of elements\n",
    "- enclosed in [ ] square bracket\n",
    "- mutable, you change the value "
   ]
  },
  {
   "cell_type": "code",
   "execution_count": 62,
   "id": "6561d1af-d382-4c36-9f4b-fb92fc9cd85c",
   "metadata": {
    "scrolled": true
   },
   "outputs": [
    {
     "data": {
      "text/plain": [
       "[2, 'fazal', False]"
      ]
     },
     "execution_count": 62,
     "metadata": {},
     "output_type": "execute_result"
    }
   ],
   "source": [
    "list1 = [2, \"fazal\", False]\n",
    "list1"
   ]
  },
  {
   "cell_type": "code",
   "execution_count": 64,
   "id": "572ddc9d-b252-474e-81f4-2a27821e9734",
   "metadata": {},
   "outputs": [
    {
     "data": {
      "text/plain": [
       "list"
      ]
     },
     "execution_count": 64,
     "metadata": {},
     "output_type": "execute_result"
    }
   ],
   "source": [
    "type(list1)"
   ]
  },
  {
   "cell_type": "code",
   "execution_count": 67,
   "id": "6fa85869-124a-4477-be2e-78b577c0264e",
   "metadata": {},
   "outputs": [
    {
     "data": {
      "text/plain": [
       "3"
      ]
     },
     "execution_count": 67,
     "metadata": {},
     "output_type": "execute_result"
    }
   ],
   "source": [
    "len(list1)"
   ]
  },
  {
   "cell_type": "code",
   "execution_count": 71,
   "id": "a6d988be-14b3-4ada-9a3b-654405e2ac77",
   "metadata": {
    "scrolled": true
   },
   "outputs": [
    {
     "data": {
      "text/plain": [
       "False"
      ]
     },
     "execution_count": 71,
     "metadata": {},
     "output_type": "execute_result"
    }
   ],
   "source": [
    "list1[2]"
   ]
  },
  {
   "cell_type": "code",
   "execution_count": 73,
   "id": "0bcb000e-b8a6-471e-af2c-57e18b7ee4ef",
   "metadata": {},
   "outputs": [
    {
     "data": {
      "text/plain": [
       "[3, 5, 'faza', 'azan', 478, 532, False]"
      ]
     },
     "execution_count": 73,
     "metadata": {},
     "output_type": "execute_result"
    }
   ],
   "source": [
    "list2 = [3,5,\"faza\", \"azan\", 478,532, False]\n",
    "list2"
   ]
  },
  {
   "cell_type": "code",
   "execution_count": 75,
   "id": "9e6309eb-cabf-493c-b4f4-223a6ad913be",
   "metadata": {
    "scrolled": true
   },
   "outputs": [
    {
     "data": {
      "text/plain": [
       "list"
      ]
     },
     "execution_count": 75,
     "metadata": {},
     "output_type": "execute_result"
    }
   ],
   "source": [
    "type(list2)\n"
   ]
  },
  {
   "cell_type": "code",
   "execution_count": 77,
   "id": "d30def44-1238-4439-82cc-cc963050eef7",
   "metadata": {},
   "outputs": [
    {
     "data": {
      "text/plain": [
       "7"
      ]
     },
     "execution_count": 77,
     "metadata": {},
     "output_type": "execute_result"
    }
   ],
   "source": [
    "len(list2)\n"
   ]
  },
  {
   "cell_type": "code",
   "execution_count": 79,
   "id": "6201bf55-5c57-4550-b965-6ef7f2947c48",
   "metadata": {
    "scrolled": true
   },
   "outputs": [
    {
     "data": {
      "text/plain": [
       "[2, 'fazal', False, 3, 5, 'faza', 'azan', 478, 532, False]"
      ]
     },
     "execution_count": 79,
     "metadata": {},
     "output_type": "execute_result"
    }
   ],
   "source": [
    "list1+list2"
   ]
  },
  {
   "cell_type": "code",
   "execution_count": 81,
   "id": "65a258d2-cc84-4b69-abca-aafc8e876be1",
   "metadata": {
    "scrolled": true
   },
   "outputs": [
    {
     "data": {
      "text/plain": [
       "[3, 5, 'faza', 'azan', 478, 532, False, 3, 5, 'faza', 'azan', 478, 532, False]"
      ]
     },
     "execution_count": 81,
     "metadata": {},
     "output_type": "execute_result"
    }
   ],
   "source": [
    "list2*2"
   ]
  },
  {
   "cell_type": "code",
   "execution_count": null,
   "id": "2a92d2fd-d493-42f0-a4f2-2c6803453343",
   "metadata": {},
   "outputs": [],
   "source": [
    "list2 = [3,5,\"faza\", \"azan\", 478,532, False]"
   ]
  },
  {
   "cell_type": "code",
   "execution_count": 99,
   "id": "e56f1352-e346-4b02-a2eb-9399a929743e",
   "metadata": {},
   "outputs": [
    {
     "data": {
      "text/plain": [
       "[False, 532, 478, 'azan', 'faza', 5, 3]"
      ]
     },
     "execution_count": 99,
     "metadata": {},
     "output_type": "execute_result"
    }
   ],
   "source": [
    "list2.reverse()\n",
    "list2"
   ]
  },
  {
   "cell_type": "code",
   "execution_count": 109,
   "id": "23ee58f6-a730-4614-b6d5-e4efd52dc19f",
   "metadata": {},
   "outputs": [
    {
     "data": {
      "text/plain": [
       "[False, 532, 478, 'azan', 'faza', 5, 3, 'azan faizan', 'azan faizan']"
      ]
     },
     "execution_count": 109,
     "metadata": {},
     "output_type": "execute_result"
    }
   ],
   "source": [
    "list2.append(\"azan faizan\")\n",
    "list2"
   ]
  },
  {
   "cell_type": "code",
   "execution_count": 113,
   "id": "9f9eacba-f7eb-4ce9-95c8-7d22704dedd2",
   "metadata": {},
   "outputs": [
    {
     "data": {
      "text/plain": [
       "[False, 532, 478, 'azan', 'faza', 5, 3, 'azan faizan', 'azan faizan']"
      ]
     },
     "execution_count": 113,
     "metadata": {},
     "output_type": "execute_result"
    }
   ],
   "source": [
    "list2.count(1832)\n",
    "list2"
   ]
  },
  {
   "cell_type": "code",
   "execution_count": 115,
   "id": "9a17f0fa-c7fa-4fa0-83c5-06bd35b4ef92",
   "metadata": {},
   "outputs": [
    {
     "data": {
      "text/plain": [
       "[20, 30, 35, 50, 40, 12, 15, 11, 10, 336, 50, 886]"
      ]
     },
     "execution_count": 115,
     "metadata": {},
     "output_type": "execute_result"
    }
   ],
   "source": [
    "list3 = [20,30,35,50,40,12,15,11,10,336,50,886]\n",
    "list3"
   ]
  },
  {
   "cell_type": "code",
   "execution_count": 117,
   "id": "23f65308-f534-4992-85f5-56f99421a6d1",
   "metadata": {},
   "outputs": [
    {
     "data": {
      "text/plain": [
       "12"
      ]
     },
     "execution_count": 117,
     "metadata": {},
     "output_type": "execute_result"
    }
   ],
   "source": [
    "len(list3)"
   ]
  },
  {
   "cell_type": "code",
   "execution_count": 123,
   "id": "b0ef62f6-5e48-4dc0-8fdd-e6480c4d1b1d",
   "metadata": {},
   "outputs": [
    {
     "data": {
      "text/plain": [
       "[10, 11, 12, 15, 20, 30, 35, 40, 50, 50, 336, 886]"
      ]
     },
     "execution_count": 123,
     "metadata": {},
     "output_type": "execute_result"
    }
   ],
   "source": [
    "list3.sort()\n",
    "list3"
   ]
  },
  {
   "cell_type": "code",
   "execution_count": 125,
   "id": "cc65511a-53a0-4d10-9230-302c0169ac06",
   "metadata": {
    "scrolled": true
   },
   "outputs": [
    {
     "data": {
      "text/plain": [
       "[10,\n",
       " 11,\n",
       " 12,\n",
       " 15,\n",
       " 20,\n",
       " 30,\n",
       " 35,\n",
       " 40,\n",
       " 50,\n",
       " 50,\n",
       " 336,\n",
       " 886,\n",
       " 10,\n",
       " 11,\n",
       " 12,\n",
       " 15,\n",
       " 20,\n",
       " 30,\n",
       " 35,\n",
       " 40,\n",
       " 50,\n",
       " 50,\n",
       " 336,\n",
       " 886]"
      ]
     },
     "execution_count": 125,
     "metadata": {},
     "output_type": "execute_result"
    }
   ],
   "source": [
    "list3*2\n"
   ]
  },
  {
   "cell_type": "code",
   "execution_count": 127,
   "id": "16e293f3-9af9-4ce1-9cff-355b6d6ecfb0",
   "metadata": {},
   "outputs": [
    {
     "data": {
      "text/plain": [
       "[2,\n",
       " 'fazal',\n",
       " False,\n",
       " False,\n",
       " 532,\n",
       " 478,\n",
       " 'azan',\n",
       " 'faza',\n",
       " 5,\n",
       " 3,\n",
       " 'azan faizan',\n",
       " 'azan faizan']"
      ]
     },
     "execution_count": 127,
     "metadata": {},
     "output_type": "execute_result"
    }
   ],
   "source": [
    "list1+list2\n"
   ]
  },
  {
   "cell_type": "markdown",
   "id": "7ec25830-526a-43ef-bf96-f19724081848",
   "metadata": {},
   "source": [
    "---"
   ]
  },
  {
   "cell_type": "markdown",
   "id": "b7fd5704-c244-486b-a305-81d89288297c",
   "metadata": {},
   "source": [
    "### 3- dictioneries\n",
    "- an unorderd collections of elements\n",
    "- key and value\n",
    "- curly braces and bracket  { }\n",
    "-mutatable change the values "
   ]
  },
  {
   "cell_type": "code",
   "execution_count": null,
   "id": "01d28f6c-2dec-4434-85d0-fd62bcba638d",
   "metadata": {},
   "outputs": [],
   "source": [
    "# food and there price"
   ]
  },
  {
   "cell_type": "code",
   "execution_count": 134,
   "id": "987eb378-e600-4b79-8079-390795526d0d",
   "metadata": {},
   "outputs": [
    {
     "data": {
      "text/plain": [
       "{'samosa': 30, 'pakora': 100, 'raita': 20, 'salad': 50, 'chicken roll': 30}"
      ]
     },
     "execution_count": 134,
     "metadata": {},
     "output_type": "execute_result"
    }
   ],
   "source": [
    "food1= {\"samosa\":30, \"pakora\":100, \"raita\":20, \"salad\":50, \"chicken roll\":30}\n",
    "food1"
   ]
  },
  {
   "cell_type": "code",
   "execution_count": 136,
   "id": "6e87b90d-f69e-4b35-b0e1-05ad54b5a323",
   "metadata": {},
   "outputs": [
    {
     "data": {
      "text/plain": [
       "dict"
      ]
     },
     "execution_count": 136,
     "metadata": {},
     "output_type": "execute_result"
    }
   ],
   "source": [
    "type(food1)"
   ]
  },
  {
   "cell_type": "code",
   "execution_count": 138,
   "id": "d7ee0552-abb8-4576-b2eb-be39af660b66",
   "metadata": {},
   "outputs": [
    {
     "data": {
      "text/plain": [
       "dict_keys(['samosa', 'pakora', 'raita', 'salad', 'chicken roll'])"
      ]
     },
     "execution_count": 138,
     "metadata": {},
     "output_type": "execute_result"
    }
   ],
   "source": [
    "food1.keys()\n"
   ]
  },
  {
   "cell_type": "code",
   "execution_count": 146,
   "id": "b1deb5c1-8f22-4b0f-a1ed-332d8490ceb0",
   "metadata": {},
   "outputs": [
    {
     "data": {
      "text/plain": [
       "dict_keys(['samosa', 'pakora', 'raita', 'salad', 'chicken roll'])"
      ]
     },
     "execution_count": 146,
     "metadata": {},
     "output_type": "execute_result"
    }
   ],
   "source": [
    "keys1 = food1.keys()\n",
    "keys1"
   ]
  },
  {
   "cell_type": "code",
   "execution_count": 150,
   "id": "0b0defe1-f5a3-4d95-baa1-d5ec575ba98c",
   "metadata": {},
   "outputs": [
    {
     "data": {
      "text/plain": [
       "dict_values([30, 100, 20, 50, 30])"
      ]
     },
     "execution_count": 150,
     "metadata": {},
     "output_type": "execute_result"
    }
   ],
   "source": [
    "values1 = food1.values()\n",
    "values1"
   ]
  },
  {
   "cell_type": "code",
   "execution_count": 152,
   "id": "d80a98bc-d17f-49f3-bba9-eac549d2f934",
   "metadata": {},
   "outputs": [
    {
     "data": {
      "text/plain": [
       "{'samosa': 30,\n",
       " 'pakora': 100,\n",
       " 'raita': 20,\n",
       " 'salad': 50,\n",
       " 'chicken roll': 30,\n",
       " 'tikka': 10}"
      ]
     },
     "execution_count": 152,
     "metadata": {},
     "output_type": "execute_result"
    }
   ],
   "source": [
    "# adding the keys\n",
    "food1[\"tikka\"]=10\n",
    "food1"
   ]
  },
  {
   "cell_type": "code",
   "execution_count": 154,
   "id": "cb4dfcc2-4120-4a60-b2dd-303c0e033efd",
   "metadata": {},
   "outputs": [
    {
     "data": {
      "text/plain": [
       "{'samosa': 30,\n",
       " 'pakora': 100,\n",
       " 'raita': 20,\n",
       " 'salad': 50,\n",
       " 'chicken roll': 30,\n",
       " 'tikka': 15}"
      ]
     },
     "execution_count": 154,
     "metadata": {},
     "output_type": "execute_result"
    }
   ],
   "source": [
    "# update the value\n",
    "food1[\"tikka\"]=15\n",
    "food1"
   ]
  },
  {
   "cell_type": "code",
   "execution_count": 158,
   "id": "070010e6-510a-41d7-a364-ffeeecb1cc3f",
   "metadata": {},
   "outputs": [
    {
     "data": {
      "text/plain": [
       "{'dates': 50, 'chocaltes': 200, 'swayyan': 1000}"
      ]
     },
     "execution_count": 158,
     "metadata": {},
     "output_type": "execute_result"
    }
   ],
   "source": [
    "food2= {\"dates\":50, \"chocaltes\":200, \"swayyan\":1000}\n",
    "food2"
   ]
  },
  {
   "cell_type": "code",
   "execution_count": 169,
   "id": "f5ed27fb-0a26-4c4b-b498-ae2031825372",
   "metadata": {
    "scrolled": true
   },
   "outputs": [
    {
     "data": {
      "text/plain": [
       "{'samosa': 30,\n",
       " 'pakora': 100,\n",
       " 'raita': 20,\n",
       " 'salad': 50,\n",
       " 'chicken roll': 30,\n",
       " 'tikka': 15,\n",
       " 'dates': 50,\n",
       " 'chocaltes': 200,\n",
       " 'swayyan': 1000}"
      ]
     },
     "execution_count": 169,
     "metadata": {},
     "output_type": "execute_result"
    }
   ],
   "source": [
    "# concatanate\n",
    "food1.update(food2)\n",
    "food1\n",
    "\n"
   ]
  },
  {
   "cell_type": "code",
   "execution_count": 171,
   "id": "50147e18-3174-4aba-97a6-2dc838e68e11",
   "metadata": {
    "scrolled": true
   },
   "outputs": [
    {
     "data": {
      "text/plain": [
       "{'dates': 50,\n",
       " 'chocaltes': 200,\n",
       " 'swayyan': 1000,\n",
       " 'samosa': 30,\n",
       " 'pakora': 100,\n",
       " 'raita': 20,\n",
       " 'salad': 50,\n",
       " 'chicken roll': 30,\n",
       " 'tikka': 15}"
      ]
     },
     "execution_count": 171,
     "metadata": {},
     "output_type": "execute_result"
    }
   ],
   "source": [
    "food2.update(food1)\n",
    "food2"
   ]
  },
  {
   "cell_type": "markdown",
   "id": "05156b60-eb53-46e3-adc3-2e984492c978",
   "metadata": {},
   "source": [
    "---"
   ]
  },
  {
   "cell_type": "markdown",
   "id": "42eda9c0-980e-46b2-a20d-b032aafb288b",
   "metadata": {},
   "source": [
    "### 4- set\n",
    "- unorderd and unindexed\n",
    "- curly braces are use ( )\n",
    "- no dublicated are allowed\n"
   ]
  },
  {
   "cell_type": "code",
   "execution_count": 175,
   "id": "fb01d5ca-7716-44c3-9c4a-e6a5be20c27e",
   "metadata": {},
   "outputs": [
    {
     "data": {
      "text/plain": [
       "(1, 2.2, 5.2, 'fazal', 'azan', 'shamozai', True)"
      ]
     },
     "execution_count": 175,
     "metadata": {},
     "output_type": "execute_result"
    }
   ],
   "source": [
    "s1= (1,2.2, 5.2,\"fazal\", \"azan\",\"shamozai\", True)\n",
    "s1"
   ]
  },
  {
   "cell_type": "code",
   "execution_count": 205,
   "id": "cb203b1a-00f9-41d5-a4c8-bce54a346d3a",
   "metadata": {},
   "outputs": [
    {
     "data": {
      "text/plain": [
       "0"
      ]
     },
     "execution_count": 205,
     "metadata": {},
     "output_type": "execute_result"
    }
   ],
   "source": [
    "s1.count(\"azan 1\")"
   ]
  },
  {
   "cell_type": "code",
   "execution_count": 201,
   "id": "5e45bd2d-d463-4d50-85ee-d7b51e1970d9",
   "metadata": {},
   "outputs": [
    {
     "data": {
      "text/plain": [
       "(1, 2.2, 5.2, 'fazal', 'azan', 'shamozai', True)"
      ]
     },
     "execution_count": 201,
     "metadata": {},
     "output_type": "execute_result"
    }
   ],
   "source": [
    "s1"
   ]
  },
  {
   "cell_type": "code",
   "execution_count": 197,
   "id": "aa382af5-a0f6-4220-9c7f-071150e3f1cc",
   "metadata": {},
   "outputs": [
    {
     "data": {
      "text/plain": [
       "(1, 2.2, 5.2, 'fazal', 'azan', 'shamozai', True)"
      ]
     },
     "execution_count": 197,
     "metadata": {},
     "output_type": "execute_result"
    }
   ],
   "source": [
    "s1"
   ]
  },
  {
   "cell_type": "code",
   "execution_count": 211,
   "id": "567d536d-37ff-42d3-b288-62138bf77057",
   "metadata": {},
   "outputs": [
    {
     "data": {
      "text/plain": [
       "(1, 2.2, 5.2, 'fazal', 'azan', 'shamozai', True)"
      ]
     },
     "execution_count": 211,
     "metadata": {},
     "output_type": "execute_result"
    }
   ],
   "source": [
    "s1.index(\"azan\")\n",
    "s1"
   ]
  }
 ],
 "metadata": {
  "kernelspec": {
   "display_name": "Python [conda env:base] *",
   "language": "python",
   "name": "conda-base-py"
  },
  "language_info": {
   "codemirror_mode": {
    "name": "ipython",
    "version": 3
   },
   "file_extension": ".py",
   "mimetype": "text/x-python",
   "name": "python",
   "nbconvert_exporter": "python",
   "pygments_lexer": "ipython3",
   "version": "3.12.7"
  }
 },
 "nbformat": 4,
 "nbformat_minor": 5
}
